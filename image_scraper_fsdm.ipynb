{
 "cells": [
  {
   "cell_type": "code",
   "execution_count": 52,
   "id": "efb92846-9d25-4b4f-98a2-8622cf29cb6c",
   "metadata": {},
   "outputs": [],
   "source": [
    "import requests\n",
    "import logging\n",
    "import os\n",
    "from bs4 import BeautifulSoup\n",
    "from urllib.request import urlopen"
   ]
  },
  {
   "cell_type": "code",
   "execution_count": 53,
   "id": "37506a30-096e-4906-8ac7-7708b56437e6",
   "metadata": {},
   "outputs": [],
   "source": [
    "save_dir=\"image/\"\n",
    "if not os.path.exists(save_dir):\n",
    "    os.makedirs(save_dir)"
   ]
  },
  {
   "cell_type": "code",
   "execution_count": 54,
   "id": "e951d94f-294c-4bee-9c91-f8db229222ce",
   "metadata": {},
   "outputs": [],
   "source": [
    "query=\"harry potter\"\n",
    "#url=https://www.google.com/search?q=query&sca_esv=1818cc04451a0ec2&sxsrf=ACQVn0_fQc94B4qS0Nk-62zuuVXctVvkTQ%3A1711445344728&source=hp&ei=YJUCZpKhKdrM2roPn9iA-Ac&iflsig=ANes7DEAAAAAZgKjcPwsw1jeNVphcgkqHU7ROgS54d93&gs_ssp=eJzj4tTP1TcwzqtKMzRg9OJMzcnPU8gtLc4GAEjMBtM&oq=elon+&gs_lp=Egdnd3Mtd2l6IgVlbG9uICoCCAAyDhAuGJECGLEDGIAEGIoFMggQABiABBixAzIFEAAYgAQyBRAAGIAEMggQABiABBixAzIIEAAYgAQYsQMyCBAAGIAEGLEDMggQABiABBixAzIIEAAYgAQYsQMyCBAAGIAEGLEDSIdrULE_WJdUcAF4AJABAJgBqgGgAcMFqgEDMC41uAEDyAEA-AEBmAIGoALzBagCCsICBxAjGOoCGCfCAg0QLhjHARjRAxjqAhgnwgIEECMYJ8ICChAjGIAEGIoFGCfCAgsQABiABBiKBRiRAsICERAAGIAEGIoFGJECGLEDGIMBwgILEAAYgAQYsQMYgwHCAg4QLhiABBiKBRiRAhixA8ICCxAuGIAEGLEDGIMBwgIOEC4YgAQYsQMYxwEYrwHCAhEQLhiABBixAxiDARjHARjRA8ICBxAAGIAEGAqYAxOSBwMxLjWgB50u&sclient=gws-wiz\n",
    "\n"
   ]
  },
  {
   "cell_type": "code",
   "execution_count": 55,
   "id": "62ddd569-9384-474d-a2e5-1cbec504bb41",
   "metadata": {},
   "outputs": [],
   "source": [
    "response=requests.get(f\"https://www.google.co.in/search?sca_esv=ab02dd2696e7e4b9&sxsrf=ACQVn0-rWkJbzuBTheBuYRcV61eN73538A:1711478168568&q={query}&tbm=isch&source=lnms&prmd=nivsmbtz&sa=X&ved=2ahUKEwisz5yCyZKFAxUEs1YBHQttCk0Q0pQJegQIDBAB&biw=1358&bih=620&dpr=1\")"
   ]
  },
  {
   "cell_type": "code",
   "execution_count": 56,
   "id": "7d04e7ec-da7b-40ef-8b38-38eaa4eefbbf",
   "metadata": {},
   "outputs": [
    {
     "data": {
      "text/plain": [
       "<Response [200]>"
      ]
     },
     "execution_count": 56,
     "metadata": {},
     "output_type": "execute_result"
    }
   ],
   "source": [
    "response\n"
   ]
  },
  {
   "cell_type": "code",
   "execution_count": 57,
   "id": "60f8c60e-6a8c-4638-b492-0247b4445413",
   "metadata": {},
   "outputs": [],
   "source": [
    "soup=BeautifulSoup(response.content,\"html.parser\")\n",
    "\n"
   ]
  },
  {
   "cell_type": "code",
   "execution_count": 58,
   "id": "fb3c05b6-3d00-4274-98e4-ebf2e519a7eb",
   "metadata": {},
   "outputs": [
    {
     "data": {
      "text/plain": [
       "<!DOCTYPE html PUBLIC \"-//WAPFORUM//DTD XHTML Mobile 1.0//EN\" \"http://www.wapforum.org/DTD/xhtml-mobile10.dtd\">\n",
       "<html lang=\"en-IN\" xmlns=\"http://www.w3.org/1999/xhtml\"><head><meta content=\"application/xhtml+xml; charset=utf-8\" http-equiv=\"Content-Type\"/><meta content=\"no-cache\" name=\"Cache-Control\"/><title>harry potter - Google Search</title><style>a{text-decoration:none;color:inherit}a:hover{text-decoration:underline}a img{border:0}body{font-family:arial,sans-serif;padding:8px;margin:0 auto;max-width:700px;min-width:240px;}.FbhRzb{border-left:thin solid #dadce0;border-right:thin solid #dadce0;border-top:thin solid #dadce0;height:40px;overflow:hidden}.n692Zd{margin-bottom:10px}.cvifge{height:40px;border-spacing:0}.QvGUP{height:40px;padding:0 8px 0 8px;vertical-align:top}.O4cRJf{height:40px;width:100%;padding:0;padding-right:16px}.O1ePr{height:40px;padding:0;vertical-align:top}.kgJEQe{height:36px;width:98px;vertical-align:top;margin-top:4px}.lXLRf{vertical-align:top}.MhzMZd{border:0;vertical-align:middle;font-size:14px;height:40px;padding:0;width:100%;padding-left:16px}.xB0fq{height:40px;border:none;font-size:14px;background-color:#1a73e8;color:#fff;padding:0 16px;margin:0;vertical-align:top;cursor:pointer}.xB0fq:focus{border:1px solid #1a73e8}.M7pB2{border:thin solid #dadce0;margin:0 0 3px 0;font-size:13px;font-weight:500;height:40px}.euZec{width:100%;height:40px;text-align:center;border-spacing:0}table.euZec td{padding:0;width:25%}.QIqI7{display:inline-block;padding-top:4px;font-weight:bold;color:#4285f4}.EY24We{border-bottom:2px solid #4285f4}.CsQyDc{display:inline-block;color:#70757a}.TuS8Ad{font-size:14px}.HddGcc{padding:8px;color:#70757a}.dzp8ae{font-weight:bold;color:#3c4043}.rEM8G{color:#70757a}.bookcf{table-layout:fixed;width:100%;border-spacing:0}.InWNIe{text-align:center}.uZgmoc{border:thin solid #dadce0;color:#70757a;font-size:14px;text-align:center;table-layout:fixed;width:100%}.frGj1b{display:block;padding:12px 0 12px 0;width:100%}.BnJWBc{text-align:center;padding:6px 0 13px 0;height:35px}.e3goi{vertical-align:top;padding:0;height:180px}.GpQGbf{margin:auto;border-collapse:collapse;border-spacing:0;width:100%}</style></head><body><style>.X6ZCif{color:#202124;font-size:11px;line-height:16px;display:inline-block;padding-top:2px;overflow:hidden;padding-bottom:4px;width:100%}.TwVfHd{border-radius:16px;border:thin solid #dadce0;display:inline-block;padding:8px 8px;margin-right:8px;margin-bottom:4px}.yekiAe{background-color:#dadce0}.jjVJ4e{width:100%}.ezO2md{border:thin solid #dadce0;padding:12px 16px 12px 16px;margin-bottom:10px;font-family:arial,sans-serif}.lIMUZd{font-family:arial,sans-serif}.RntSmf{border-spacing:0}.lgD2Tc{width:100%}.SpelHe{text-align:center}.SpelHe{position:relative}.kCmkOe{position:relative}.kCmkOe{width:162px;height:140px;line-height:140px;overflow:'hidden';text-align:center}.DS1iW{text-align:center;margin:auto;vertical-align:middle;max-width:162px;max-height:140px}.AlD19d{padding-top:2px;padding-bottom:8px;}.fYyStc{word-break:break-word}.ynsChf{display:block;white-space:nowrap;overflow:hidden;text-overflow:ellipsis}.Fj3V3b{color:#1967d2;font-size:14px;line-height:20px}.FrIlee{color:#202124;font-size:11px;line-height:16px}.F9iS2e{color:#70757a;font-size:11px;line-height:16px}.WMQ2Le{color:#70757a;font-size:12px;line-height:16px}.x3G5ab{color:#202124;font-size:12px;line-height:16px}.fuLhoc{color:#1967d2;font-size:16px;line-height:20px}.epoveb{font-size:24px;line-height:28px;font-weight:400;color:#202124}.dXDvrc{color:#0d652d;font-size:14px;line-height:20px;word-wrap:break-word}.dloBPe{font-weight:bold}.YVIcad{color:#70757a}.JkVVdd{color:#ea4335}.oXZRFd{color:#ea4335}.MQHtg{color:#fbbc04}.pyMRrb{color:#1e8e3e}.EtTZid{color:#1e8e3e}.M3vVJe{color:#1967d2}.qXLe6d{display:block}.NHQNef{font-style:italic}.Cb8Z7c{white-space:pre}a.ZWRArf{text-decoration:none}a .CVA68e:hover{text-decoration:underline}</style><div class=\"n692Zd\"><div class=\"BnJWBc\"><a class=\"lXLRf\" href=\"/?sa=X&amp;sca_esv=ab02dd2696e7e4b9&amp;biw=1358&amp;bih=620&amp;output=images&amp;ie=UTF-8&amp;tbm=isch&amp;ved=0ahUKEwi4nfztl5SFAxWYcGwGHbpSBYcQPAgC\"><img alt=\"Google\" class=\"kgJEQe\" src=\"/images/branding/searchlogo/1x/googlelogo_desk_heirloom_color_150x55dp.gif\"/></a></div><div class=\"FbhRzb\"><form action=\"/search\"><input name=\"sca_esv\" type=\"hidden\" value=\"ab02dd2696e7e4b9\"/><input name=\"biw\" type=\"hidden\" value=\"1358\"/><input name=\"bih\" type=\"hidden\" value=\"620\"/><input name=\"ie\" type=\"hidden\" value=\"ISO-8859-1\"/><input name=\"tbm\" type=\"hidden\" value=\"isch\"/><input name=\"oq\" type=\"hidden\"/><input name=\"aqs\" type=\"hidden\"/><table class=\"cvifge\"><tr><td class=\"O4cRJf\"><input class=\"MhzMZd\" name=\"q\" type=\"text\" value=\"harry potter\"/></td><td class=\"O1ePr\"><input class=\"xB0fq\" type=\"submit\" value=\"Search\"/></td></tr></table></form></div><div class=\"M7pB2\"><table class=\"euZec\"><tbody><tr><td><a class=\"CsQyDc\" href=\"/search?q=harry+potter&amp;sca_esv=ab02dd2696e7e4b9&amp;biw=1358&amp;bih=620&amp;ie=UTF-8&amp;source=lnms&amp;sa=X&amp;ved=0ahUKEwi4nfztl5SFAxWYcGwGHbpSBYcQ_AUIBCgA\">ALL</a></td><td class=\"EY24We\"><span class=\"QIqI7\">IMAGES</span></td><td><a class=\"CsQyDc\" href=\"/search?q=harry+potter&amp;sca_esv=ab02dd2696e7e4b9&amp;biw=1358&amp;bih=620&amp;ie=UTF-8&amp;tbm=nws&amp;source=lnms&amp;sa=X&amp;ved=0ahUKEwi4nfztl5SFAxWYcGwGHbpSBYcQ_AUIBigC\">NEWS</a></td><td><a class=\"CsQyDc\" href=\"/search?q=harry+potter&amp;sca_esv=ab02dd2696e7e4b9&amp;biw=1358&amp;bih=620&amp;ie=UTF-8&amp;tbm=bks&amp;source=lnms&amp;sa=X&amp;ved=0ahUKEwi4nfztl5SFAxWYcGwGHbpSBYcQ_AUIBygD\">BOOKS</a></td></tr></tbody></table></div></div><div class=\"X6ZCif\"><a class=\"TwVfHd\" href=\"/search?sca_esv=ab02dd2696e7e4b9&amp;biw=1358&amp;bih=620&amp;ie=UTF-8&amp;tbm=isch&amp;q=harry+potter&amp;chips=q:harry+potter,g_1:wallpaper&amp;sa=X&amp;ved=0ahUKEwi4nfztl5SFAxWYcGwGHbpSBYcQ4lYICygA\">wallpaper</a><a class=\"TwVfHd\" href=\"/search?sca_esv=ab02dd2696e7e4b9&amp;biw=1358&amp;bih=620&amp;ie=UTF-8&amp;tbm=isch&amp;q=harry+potter&amp;chips=q:harry+potter,g_1:logo&amp;sa=X&amp;ved=0ahUKEwi4nfztl5SFAxWYcGwGHbpSBYcQ4lYIDCgB\">logo</a><a class=\"TwVfHd\" href=\"/search?sca_esv=ab02dd2696e7e4b9&amp;biw=1358&amp;bih=620&amp;ie=UTF-8&amp;tbm=isch&amp;q=harry+potter&amp;chips=q:harry+potter,g_1:drawing&amp;sa=X&amp;ved=0ahUKEwi4nfztl5SFAxWYcGwGHbpSBYcQ4lYIDSgC\">drawing</a><a class=\"TwVfHd\" href=\"/search?sca_esv=ab02dd2696e7e4b9&amp;biw=1358&amp;bih=620&amp;ie=UTF-8&amp;tbm=isch&amp;q=harry+potter&amp;chips=q:harry+potter,g_1:art&amp;sa=X&amp;ved=0ahUKEwi4nfztl5SFAxWYcGwGHbpSBYcQ4lYIDigD\">art</a><a class=\"TwVfHd\" href=\"/search?sca_esv=ab02dd2696e7e4b9&amp;biw=1358&amp;bih=620&amp;ie=UTF-8&amp;tbm=isch&amp;q=harry+potter&amp;chips=q:harry+potter,g_1:wand&amp;sa=X&amp;ved=0ahUKEwi4nfztl5SFAxWYcGwGHbpSBYcQ4lYIDygE\">wand</a><a class=\"TwVfHd\" href=\"/search?sca_esv=ab02dd2696e7e4b9&amp;biw=1358&amp;bih=620&amp;ie=UTF-8&amp;tbm=isch&amp;q=harry+potter&amp;chips=q:harry+potter,g_1:hogwarts&amp;sa=X&amp;ved=0ahUKEwi4nfztl5SFAxWYcGwGHbpSBYcQ4lYIECgF\">hogwarts</a><a class=\"TwVfHd\" href=\"/search?sca_esv=ab02dd2696e7e4b9&amp;biw=1358&amp;bih=620&amp;ie=UTF-8&amp;tbm=isch&amp;q=harry+potter&amp;chips=q:harry+potter,g_1:character&amp;sa=X&amp;ved=0ahUKEwi4nfztl5SFAxWYcGwGHbpSBYcQ4lYIESgG\">character</a><a class=\"TwVfHd\" href=\"/search?sca_esv=ab02dd2696e7e4b9&amp;biw=1358&amp;bih=620&amp;ie=UTF-8&amp;tbm=isch&amp;q=harry+potter&amp;chips=q:harry+potter,g_1:quidditch&amp;sa=X&amp;ved=0ahUKEwi4nfztl5SFAxWYcGwGHbpSBYcQ4lYIEigH\">quidditch</a><a class=\"TwVfHd\" href=\"/search?sca_esv=ab02dd2696e7e4b9&amp;biw=1358&amp;bih=620&amp;ie=UTF-8&amp;tbm=isch&amp;q=harry+potter&amp;chips=q:harry+potter,g_1:fanart&amp;sa=X&amp;ved=0ahUKEwi4nfztl5SFAxWYcGwGHbpSBYcQ4lYIEygI\">fanart</a><a class=\"TwVfHd\" href=\"/search?sca_esv=ab02dd2696e7e4b9&amp;biw=1358&amp;bih=620&amp;ie=UTF-8&amp;tbm=isch&amp;q=harry+potter&amp;chips=q:harry+potter,g_1:aesthetic&amp;sa=X&amp;ved=0ahUKEwi4nfztl5SFAxWYcGwGHbpSBYcQ4lYIFCgJ\">aesthetic</a></div><div><table class=\"GpQGbf\"><tr><td align=\"center\" class=\"e3goi\"><div class=\"jjVJ4e\"> <div> <div class=\"lIMUZd\"><div><table class=\"RntSmf\"><tr><td><a href=\"/url?q=https://en.wikipedia.org/wiki/Harry_Potter_(character)&amp;sa=U&amp;ved=2ahUKEwi4nfztl5SFAxWYcGwGHbpSBYcQqoUBegQIAhAB&amp;usg=AOvVaw2LzpXN2Twp3Dlmao4thzDp\"><div class=\"kCmkOe\"><img alt=\"\" class=\"DS1iW\" src=\"https://encrypted-tbn0.gstatic.com/images?q=tbn:ANd9GcS-TtlIgCdrIZYpDvZPV0BoUKzrjrfTl66p8wMl50aDmFFSkxu4x6ghi1yBsjY&amp;s\"/></div></a></td></tr><tr><td><a href=\"/url?q=https://en.wikipedia.org/wiki/Harry_Potter_(character)&amp;sa=U&amp;ved=2ahUKEwi4nfztl5SFAxWYcGwGHbpSBYcQr4kDegQIAhAC&amp;usg=AOvVaw0jnzY0-fyK0wy8szeyL8fR\"><div class=\"AlD19d\"> <span class=\"qXLe6d x3G5ab\"> <span class=\"fYyStc\">Harry Potter (character) -...</span> </span> <span class=\"qXLe6d F9iS2e\"> <span class=\"fYyStc\">en.wikipedia.org</span> </span> </div></a></td></tr></table></div></div> </div> </div></td><td align=\"center\" class=\"e3goi\"><div class=\"jjVJ4e\"> <div> <div class=\"lIMUZd\"><div><table class=\"RntSmf\"><tr><td><a href=\"/url?q=https://en.wikipedia.org/wiki/Harry_Potter&amp;sa=U&amp;ved=2ahUKEwi4nfztl5SFAxWYcGwGHbpSBYcQqoUBegQIEhAB&amp;usg=AOvVaw3QqSaU5Zj_9WuxuZA71Oa9\"><div class=\"kCmkOe\"><img alt=\"\" class=\"DS1iW\" src=\"https://encrypted-tbn0.gstatic.com/images?q=tbn:ANd9GcS27YkgDjk5vHQa8T4hT0srxFEv8RXX0DaCfJU_p2cHUDkjrR3tRfse_69e4vU&amp;s\"/></div></a></td></tr><tr><td><a href=\"/url?q=https://en.wikipedia.org/wiki/Harry_Potter&amp;sa=U&amp;ved=2ahUKEwi4nfztl5SFAxWYcGwGHbpSBYcQr4kDegQIEhAC&amp;usg=AOvVaw2K40sJDa8ILmix-5ntjIqf\"><div class=\"AlD19d\"> <span class=\"qXLe6d x3G5ab\"> <span class=\"fYyStc\">Harry Potter - Wikipedia</span> </span> <span class=\"qXLe6d F9iS2e\"> <span class=\"fYyStc\">en.wikipedia.org</span> </span> </div></a></td></tr></table></div></div> </div> </div></td><td align=\"center\" class=\"e3goi\"><div class=\"jjVJ4e\"> <div> <div class=\"lIMUZd\"><div><table class=\"RntSmf\"><tr><td><a href=\"/url?q=https://www.britannica.com/topic/Harry-Potter&amp;sa=U&amp;ved=2ahUKEwi4nfztl5SFAxWYcGwGHbpSBYcQqoUBegQIExAB&amp;usg=AOvVaw36v2ppV2cFKLdk-xE4c240\"><div class=\"kCmkOe\"><img alt=\"\" class=\"DS1iW\" src=\"https://encrypted-tbn0.gstatic.com/images?q=tbn:ANd9GcSD6jUuiKr1L292c6jkSdzFVq-NJ6TjLQKlteJCyYD2YpCY_kMFR10pZ1mlyec&amp;s\"/></div></a></td></tr><tr><td><a href=\"/url?q=https://www.britannica.com/topic/Harry-Potter&amp;sa=U&amp;ved=2ahUKEwi4nfztl5SFAxWYcGwGHbpSBYcQr4kDegQIExAC&amp;usg=AOvVaw27rnXuwQxrBQVGp15lSJJb\"><div class=\"AlD19d\"> <span class=\"qXLe6d x3G5ab\"> <span class=\"fYyStc\">Harry Potter | Character,...</span> </span> <span class=\"qXLe6d F9iS2e\"> <span class=\"fYyStc\">www.britannica.com</span> </span> </div></a></td></tr></table></div></div> </div> </div></td><td align=\"center\" class=\"e3goi\"><div class=\"jjVJ4e\"> <div> <div class=\"lIMUZd\"><div><table class=\"RntSmf\"><tr><td><a href=\"/url?q=https://www.imdb.com/title/tt0241527/&amp;sa=U&amp;ved=2ahUKEwi4nfztl5SFAxWYcGwGHbpSBYcQqoUBegQIDxAB&amp;usg=AOvVaw0pwzjotOty-l15tykLmtYh\"><div class=\"kCmkOe\"><img alt=\"\" class=\"DS1iW\" src=\"https://encrypted-tbn0.gstatic.com/images?q=tbn:ANd9GcQwq6aoJKDrPZODK7q4wVdGYzuPlBXrwX7PQZWUhqwXcA83dUdx_WBkqcjd6w&amp;s\"/></div></a></td></tr><tr><td><a href=\"/url?q=https://www.imdb.com/title/tt0241527/&amp;sa=U&amp;ved=2ahUKEwi4nfztl5SFAxWYcGwGHbpSBYcQr4kDegQIDxAC&amp;usg=AOvVaw07NETMUGBBbi00JLd7ZVho\"><div class=\"AlD19d\"> <span class=\"qXLe6d x3G5ab\"> <span class=\"fYyStc\">Harry Potter and the...</span> </span> <span class=\"qXLe6d F9iS2e\"> <span class=\"fYyStc\">www.imdb.com</span> </span> </div></a></td></tr></table></div></div> </div> </div></td></tr><tr><td align=\"center\" class=\"e3goi\"><div class=\"jjVJ4e\"> <div> <div class=\"lIMUZd\"><div><table class=\"RntSmf\"><tr><td><a href=\"/url?q=https://en.wikipedia.org/wiki/Harry_Potter&amp;sa=U&amp;ved=2ahUKEwi4nfztl5SFAxWYcGwGHbpSBYcQqoUBegQIEBAB&amp;usg=AOvVaw2W16ZsuyhnABdFugZw6B4k\"><div class=\"kCmkOe\"><img alt=\"\" class=\"DS1iW\" src=\"https://encrypted-tbn0.gstatic.com/images?q=tbn:ANd9GcSvS3EGq8JBl6LSPK6MZC1y0T8Hz73x6dkW8kAwUMKcyg4UyDo47k-SX_YTcj8&amp;s\"/></div></a></td></tr><tr><td><a href=\"/url?q=https://en.wikipedia.org/wiki/Harry_Potter&amp;sa=U&amp;ved=2ahUKEwi4nfztl5SFAxWYcGwGHbpSBYcQr4kDegQIEBAC&amp;usg=AOvVaw0OLfXkO4SOnKUvKrG9YfeN\"><div class=\"AlD19d\"> <span class=\"qXLe6d x3G5ab\"> <span class=\"fYyStc\">Harry Potter - Wikipedia</span> </span> <span class=\"qXLe6d F9iS2e\"> <span class=\"fYyStc\">en.wikipedia.org</span> </span> </div></a></td></tr></table></div></div> </div> </div></td><td align=\"center\" class=\"e3goi\"><div class=\"jjVJ4e\"> <div> <div class=\"lIMUZd\"><div><table class=\"RntSmf\"><tr><td><a href=\"/url?q=https://harrypotter.fandom.com/wiki/Harry_Potter&amp;sa=U&amp;ved=2ahUKEwi4nfztl5SFAxWYcGwGHbpSBYcQqoUBegQIDRAB&amp;usg=AOvVaw0Yiz247BDVXbgNk3GN1_d2\"><div class=\"kCmkOe\"><img alt=\"\" class=\"DS1iW\" src=\"https://encrypted-tbn0.gstatic.com/images?q=tbn:ANd9GcRqflKGxMexjNUdRl6Jrb-P7qXSi2mMlxG7VqBsKFavNDkfdMlmuCKBChXUZ8k&amp;s\"/></div></a></td></tr><tr><td><a href=\"/url?q=https://harrypotter.fandom.com/wiki/Harry_Potter&amp;sa=U&amp;ved=2ahUKEwi4nfztl5SFAxWYcGwGHbpSBYcQr4kDegQIDRAC&amp;usg=AOvVaw3Jf_jNcIX0ygndwQwqDXgP\"><div class=\"AlD19d\"> <span class=\"qXLe6d x3G5ab\"> <span class=\"fYyStc\">Harry Potter | Harry Potter...</span> </span> <span class=\"qXLe6d F9iS2e\"> <span class=\"fYyStc\">harrypotter.fandom.com</span> </span> </div></a></td></tr></table></div></div> </div> </div></td><td align=\"center\" class=\"e3goi\"><div class=\"jjVJ4e\"> <div> <div class=\"lIMUZd\"><div><table class=\"RntSmf\"><tr><td><a href=\"/url?q=https://www.imdb.com/title/tt1201607/&amp;sa=U&amp;ved=2ahUKEwi4nfztl5SFAxWYcGwGHbpSBYcQqoUBegQICRAB&amp;usg=AOvVaw3tyTDkyeS7ZwqSowwk6Ugp\"><div class=\"kCmkOe\"><img alt=\"\" class=\"DS1iW\" src=\"https://encrypted-tbn0.gstatic.com/images?q=tbn:ANd9GcR2J6UhwGez9yK6Fl39iwTiDsxEyr0dsSCtzgxef-IQFNai24uFBnnjC4m6Zg&amp;s\"/></div></a></td></tr><tr><td><a href=\"/url?q=https://www.imdb.com/title/tt1201607/&amp;sa=U&amp;ved=2ahUKEwi4nfztl5SFAxWYcGwGHbpSBYcQr4kDegQICRAC&amp;usg=AOvVaw00U1CXVOaOvTwPjUFtN3Vn\"><div class=\"AlD19d\"> <span class=\"qXLe6d x3G5ab\"> <span class=\"fYyStc\">Harry Potter and the...</span> </span> <span class=\"qXLe6d F9iS2e\"> <span class=\"fYyStc\">www.imdb.com</span> </span> </div></a></td></tr></table></div></div> </div> </div></td><td align=\"center\" class=\"e3goi\"><div class=\"jjVJ4e\"> <div> <div class=\"lIMUZd\"><div><table class=\"RntSmf\"><tr><td><a href=\"/url?q=https://www.techradar.com/how-to/how-to-watch-the-harry-potter-movies-in-order&amp;sa=U&amp;ved=2ahUKEwi4nfztl5SFAxWYcGwGHbpSBYcQqoUBegQIDBAB&amp;usg=AOvVaw2KG454Q0q0G5lXgL-rFafF\"><div class=\"kCmkOe\"><img alt=\"\" class=\"DS1iW\" src=\"https://encrypted-tbn0.gstatic.com/images?q=tbn:ANd9GcRytBEKIOYQiHVFCuYLkLXvSxOcLz39dCNYw6LFhtUEu5r9SLe5OHqmemSBgQ&amp;s\"/></div></a></td></tr><tr><td><a href=\"/url?q=https://www.techradar.com/how-to/how-to-watch-the-harry-potter-movies-in-order&amp;sa=U&amp;ved=2ahUKEwi4nfztl5SFAxWYcGwGHbpSBYcQr4kDegQIDBAC&amp;usg=AOvVaw1DnLAUZtun73nydsX44fHV\"><div class=\"AlD19d\"> <span class=\"qXLe6d x3G5ab\"> <span class=\"fYyStc\">How to watch the Harry...</span> </span> <span class=\"qXLe6d F9iS2e\"> <span class=\"fYyStc\">www.techradar.com</span> </span> </div></a></td></tr></table></div></div> </div> </div></td></tr><tr><td align=\"center\" class=\"e3goi\"><div class=\"jjVJ4e\"> <div> <div class=\"lIMUZd\"><div><table class=\"RntSmf\"><tr><td><a href=\"/url?q=https://www.wizardingworld.com/fact-file/characters-and-pets/harry-potter&amp;sa=U&amp;ved=2ahUKEwi4nfztl5SFAxWYcGwGHbpSBYcQqoUBegQICxAB&amp;usg=AOvVaw0sKkcr5E2PChbY61mSvcdP\"><div class=\"kCmkOe\"><img alt=\"\" class=\"DS1iW\" src=\"https://encrypted-tbn0.gstatic.com/images?q=tbn:ANd9GcSRYe2hllhP446sc582PW95aX5WkENioBPNKG8mDFLDvVr0uXWrc8R6PjtHbg&amp;s\"/></div></a></td></tr><tr><td><a href=\"/url?q=https://www.wizardingworld.com/fact-file/characters-and-pets/harry-potter&amp;sa=U&amp;ved=2ahUKEwi4nfztl5SFAxWYcGwGHbpSBYcQr4kDegQICxAC&amp;usg=AOvVaw0SVeUWty-6ApAiiuxMuJgM\"><div class=\"AlD19d\"> <span class=\"qXLe6d x3G5ab\"> <span class=\"fYyStc\">Harry Potter</span> </span> <span class=\"qXLe6d F9iS2e\"> <span class=\"fYyStc\">www.wizardingworld.com</span> </span> </div></a></td></tr></table></div></div> </div> </div></td><td align=\"center\" class=\"e3goi\"><div class=\"jjVJ4e\"> <div> <div class=\"lIMUZd\"><div><table class=\"RntSmf\"><tr><td><a href=\"/url?q=https://harrypotter.fandom.com/wiki/Harry_Potter_(film_series)&amp;sa=U&amp;ved=2ahUKEwi4nfztl5SFAxWYcGwGHbpSBYcQqoUBegQIDhAB&amp;usg=AOvVaw1FkSNrdAIUPDJJi5SNim7B\"><div class=\"kCmkOe\"><img alt=\"\" class=\"DS1iW\" src=\"https://encrypted-tbn0.gstatic.com/images?q=tbn:ANd9GcQbhmStJQku26OAQAtuVbWv2bq17ocrYU-9STBBSWcRqW45Fe8aQLTlGLEuehg&amp;s\"/></div></a></td></tr><tr><td><a href=\"/url?q=https://harrypotter.fandom.com/wiki/Harry_Potter_(film_series)&amp;sa=U&amp;ved=2ahUKEwi4nfztl5SFAxWYcGwGHbpSBYcQr4kDegQIDhAC&amp;usg=AOvVaw3gOK5iRWx44K3yUiMyjKHi\"><div class=\"AlD19d\"> <span class=\"qXLe6d x3G5ab\"> <span class=\"fYyStc\">Harry Potter (film series)...</span> </span> <span class=\"qXLe6d F9iS2e\"> <span class=\"fYyStc\">harrypotter.fandom.com</span> </span> </div></a></td></tr></table></div></div> </div> </div></td><td align=\"center\" class=\"e3goi\"><div class=\"jjVJ4e\"> <div> <div class=\"lIMUZd\"><div><table class=\"RntSmf\"><tr><td><a href=\"/url?q=https://www.independent.co.uk/arts-entertainment/books/news/everything-extra-jk-rowling-has-revealed-about-harry-potter-10486083.html&amp;sa=U&amp;ved=2ahUKEwi4nfztl5SFAxWYcGwGHbpSBYcQqoUBegQIChAB&amp;usg=AOvVaw1XvZY9nuEbvu37NRmUqw8w\"><div class=\"kCmkOe\"><img alt=\"\" class=\"DS1iW\" src=\"https://encrypted-tbn0.gstatic.com/images?q=tbn:ANd9GcS5N9Y-9NK9v9Hm0GsKWGcj6gHmyXZgvCtcUWjnJK36JpcOY1_96ZwJECTAgg&amp;s\"/></div></a></td></tr><tr><td><a href=\"/url?q=https://www.independent.co.uk/arts-entertainment/books/news/everything-extra-jk-rowling-has-revealed-about-harry-potter-10486083.html&amp;sa=U&amp;ved=2ahUKEwi4nfztl5SFAxWYcGwGHbpSBYcQr4kDegQIChAC&amp;usg=AOvVaw3G11_JOh7SnVs-QeS0XnRN\"><div class=\"AlD19d\"> <span class=\"qXLe6d x3G5ab\"> <span class=\"fYyStc\">Everything extra JK Rowling...</span> </span> <span class=\"qXLe6d F9iS2e\"> <span class=\"fYyStc\">www.independent.co.uk</span> </span> </div></a></td></tr></table></div></div> </div> </div></td><td align=\"center\" class=\"e3goi\"><div class=\"jjVJ4e\"> <div> <div class=\"lIMUZd\"><div><table class=\"RntSmf\"><tr><td><a href=\"/url?q=https://www.wizardingworld.com/collections/starting-harry-potter&amp;sa=U&amp;ved=2ahUKEwi4nfztl5SFAxWYcGwGHbpSBYcQqoUBegQIERAB&amp;usg=AOvVaw3XWVrPLv6pnd0PUHBWqvNH\"><div class=\"kCmkOe\"><img alt=\"\" class=\"DS1iW\" src=\"https://encrypted-tbn0.gstatic.com/images?q=tbn:ANd9GcRmbqyKaqgc1J0iz-IiXunjJCLm8Hyu6mjWZL9Aj23GkqEssoauEhwLqGmmbxc&amp;s\"/></div></a></td></tr><tr><td><a href=\"/url?q=https://www.wizardingworld.com/collections/starting-harry-potter&amp;sa=U&amp;ved=2ahUKEwi4nfztl5SFAxWYcGwGHbpSBYcQr4kDegQIERAC&amp;usg=AOvVaw3cofJWjb_AdE_0xYkkyQb5\"><div class=\"AlD19d\"> <span class=\"qXLe6d x3G5ab\"> <span class=\"fYyStc\">Starting Harry Potter |...</span> </span> <span class=\"qXLe6d F9iS2e\"> <span class=\"fYyStc\">www.wizardingworld.com</span> </span> </div></a></td></tr></table></div></div> </div> </div></td></tr><tr><td align=\"center\" class=\"e3goi\"><div class=\"jjVJ4e\"> <div> <div class=\"lIMUZd\"><div><table class=\"RntSmf\"><tr><td><a href=\"/url?q=https://deadline.com/gallery/harry-potter-movies-in-chronological-order/&amp;sa=U&amp;ved=2ahUKEwi4nfztl5SFAxWYcGwGHbpSBYcQqoUBegQIARAB&amp;usg=AOvVaw0a99stGBNnVaiOAJPGcPMo\"><div class=\"kCmkOe\"><img alt=\"\" class=\"DS1iW\" src=\"https://encrypted-tbn0.gstatic.com/images?q=tbn:ANd9GcQeEE7g19Yf-2smz-faUdX70AeMwovmy68bfs7fW1BwYkzoQSjNuyCYqD2Png&amp;s\"/></div></a></td></tr><tr><td><a href=\"/url?q=https://deadline.com/gallery/harry-potter-movies-in-chronological-order/&amp;sa=U&amp;ved=2ahUKEwi4nfztl5SFAxWYcGwGHbpSBYcQr4kDegQIARAC&amp;usg=AOvVaw2GaRSXCZUv0acUj1kMdHKJ\"><div class=\"AlD19d\"> <span class=\"qXLe6d x3G5ab\"> <span class=\"fYyStc\">All The Harry Potter Movies...</span> </span> <span class=\"qXLe6d F9iS2e\"> <span class=\"fYyStc\">deadline.com</span> </span> </div></a></td></tr></table></div></div> </div> </div></td><td align=\"center\" class=\"e3goi\"><div class=\"jjVJ4e\"> <div> <div class=\"lIMUZd\"><div><table class=\"RntSmf\"><tr><td><a href=\"/url?q=https://www.irishtimes.com/culture/books/harry-potter-is-there-a-less-appealing-fictional-character-1.3170112&amp;sa=U&amp;ved=2ahUKEwi4nfztl5SFAxWYcGwGHbpSBYcQqoUBegQIBBAB&amp;usg=AOvVaw0Rj-Ff_DJSPebGx5KRPG5l\"><div class=\"kCmkOe\"><img alt=\"\" class=\"DS1iW\" src=\"https://encrypted-tbn0.gstatic.com/images?q=tbn:ANd9GcSCAZDOlOhjj4IsllH5knCHoIaUvTCXx4Rf_Evs77_zCGFRtRh_mFTyR9AHt40&amp;s\"/></div></a></td></tr><tr><td><a href=\"/url?q=https://www.irishtimes.com/culture/books/harry-potter-is-there-a-less-appealing-fictional-character-1.3170112&amp;sa=U&amp;ved=2ahUKEwi4nfztl5SFAxWYcGwGHbpSBYcQr4kDegQIBBAC&amp;usg=AOvVaw1fJPfharYYV4VaHfipPt6n\"><div class=\"AlD19d\"> <span class=\"qXLe6d x3G5ab\"> <span class=\"fYyStc\">Harry Potter: is there a...</span> </span> <span class=\"qXLe6d F9iS2e\"> <span class=\"fYyStc\">www.irishtimes.com</span> </span> </div></a></td></tr></table></div></div> </div> </div></td><td align=\"center\" class=\"e3goi\"><div class=\"jjVJ4e\"> <div> <div class=\"lIMUZd\"><div><table class=\"RntSmf\"><tr><td><a href=\"/url?q=https://in.ign.com/harry-potter-the-series&amp;sa=U&amp;ved=2ahUKEwi4nfztl5SFAxWYcGwGHbpSBYcQqoUBegQIABAB&amp;usg=AOvVaw2WyFi4p0bKp_zVlK2YGwFc\"><div class=\"kCmkOe\"><img alt=\"\" class=\"DS1iW\" src=\"https://encrypted-tbn0.gstatic.com/images?q=tbn:ANd9GcQhIg-UqQR6t6dc581fcTcjwkwxeIdo7gs88nCevz2d4UPf-NirW1VDg61XWys&amp;s\"/></div></a></td></tr><tr><td><a href=\"/url?q=https://in.ign.com/harry-potter-the-series&amp;sa=U&amp;ved=2ahUKEwi4nfztl5SFAxWYcGwGHbpSBYcQr4kDegQIABAC&amp;usg=AOvVaw0dd73B3vxPUnMipH7Er_Hv\"><div class=\"AlD19d\"> <span class=\"qXLe6d x3G5ab\"> <span class=\"fYyStc\">Harry Potter: The Series</span> </span> <span class=\"qXLe6d F9iS2e\"> <span class=\"fYyStc\">in.ign.com</span> </span> </div></a></td></tr></table></div></div> </div> </div></td><td align=\"center\" class=\"e3goi\"><div class=\"jjVJ4e\"> <div> <div class=\"lIMUZd\"><div><table class=\"RntSmf\"><tr><td><a href=\"/url?q=https://www.marca.com/en/lifestyle/celebrities/2023/06/17/648dcf3d46163f60108b45f1.html&amp;sa=U&amp;ved=2ahUKEwi4nfztl5SFAxWYcGwGHbpSBYcQqoUBegQIAxAB&amp;usg=AOvVaw2raGLWKz2Col5IYD-70-n9\"><div class=\"kCmkOe\"><img alt=\"\" class=\"DS1iW\" src=\"https://encrypted-tbn0.gstatic.com/images?q=tbn:ANd9GcRdS6b-z34xjprxbrSQwTy9fAea2O8KorOJX24tX_bbI00DY3Fgb4TIo_rFiqw&amp;s\"/></div></a></td></tr><tr><td><a href=\"/url?q=https://www.marca.com/en/lifestyle/celebrities/2023/06/17/648dcf3d46163f60108b45f1.html&amp;sa=U&amp;ved=2ahUKEwi4nfztl5SFAxWYcGwGHbpSBYcQr4kDegQIAxAC&amp;usg=AOvVaw3tJBPCfUofrahyq8tDxHWG\"><div class=\"AlD19d\"> <span class=\"qXLe6d x3G5ab\"> <span class=\"fYyStc\">Daniel Radcliffe reveals...</span> </span> <span class=\"qXLe6d F9iS2e\"> <span class=\"fYyStc\">www.marca.com</span> </span> </div></a></td></tr></table></div></div> </div> </div></td></tr><tr><td align=\"center\" class=\"e3goi\"><div class=\"jjVJ4e\"> <div> <div class=\"lIMUZd\"><div><table class=\"RntSmf\"><tr><td><a href=\"/url?q=https://deadline.com/gallery/harry-potter-movies-in-chronological-order/&amp;sa=U&amp;ved=2ahUKEwi4nfztl5SFAxWYcGwGHbpSBYcQqoUBegQICBAB&amp;usg=AOvVaw1WRtGAfBqK--n4P5CJGvFV\"><div class=\"kCmkOe\"><img alt=\"\" class=\"DS1iW\" src=\"https://encrypted-tbn0.gstatic.com/images?q=tbn:ANd9GcTISPBKmhmc6rRidyJaOLqlJKaqcG5uYvI0yWk_-vmud2-9y_OIAhuVti3zdA&amp;s\"/></div></a></td></tr><tr><td><a href=\"/url?q=https://deadline.com/gallery/harry-potter-movies-in-chronological-order/&amp;sa=U&amp;ved=2ahUKEwi4nfztl5SFAxWYcGwGHbpSBYcQr4kDegQICBAC&amp;usg=AOvVaw11Asm28rGyN4YEEYvnVMgK\"><div class=\"AlD19d\"> <span class=\"qXLe6d x3G5ab\"> <span class=\"fYyStc\">All The Harry Potter Movies...</span> </span> <span class=\"qXLe6d F9iS2e\"> <span class=\"fYyStc\">deadline.com</span> </span> </div></a></td></tr></table></div></div> </div> </div></td><td align=\"center\" class=\"e3goi\"><div class=\"jjVJ4e\"> <div> <div class=\"lIMUZd\"><div><table class=\"RntSmf\"><tr><td><a href=\"/url?q=https://www.vogue.in/culture-and-living/content/9-facts-about-the-harry-potter-franchise-every-potterhead-needs-to-know&amp;sa=U&amp;ved=2ahUKEwi4nfztl5SFAxWYcGwGHbpSBYcQqoUBegQIBhAB&amp;usg=AOvVaw2O0Qc_CKsp_g4cx8SeYCkQ\"><div class=\"kCmkOe\"><img alt=\"\" class=\"DS1iW\" src=\"https://encrypted-tbn0.gstatic.com/images?q=tbn:ANd9GcRnGv2YOW_bNzoNbTrg10DyOBJW1jkssdpv_qZ8zRX4GirfEqPort3F31UQcLU&amp;s\"/></div></a></td></tr><tr><td><a href=\"/url?q=https://www.vogue.in/culture-and-living/content/9-facts-about-the-harry-potter-franchise-every-potterhead-needs-to-know&amp;sa=U&amp;ved=2ahUKEwi4nfztl5SFAxWYcGwGHbpSBYcQr4kDegQIBhAC&amp;usg=AOvVaw2dIIiaGk2rcyyT8igAEZN6\"><div class=\"AlD19d\"> <span class=\"qXLe6d x3G5ab\"> <span class=\"fYyStc\">9 facts about the Harry...</span> </span> <span class=\"qXLe6d F9iS2e\"> <span class=\"fYyStc\">www.vogue.in</span> </span> </div></a></td></tr></table></div></div> </div> </div></td><td align=\"center\" class=\"e3goi\"><div class=\"jjVJ4e\"> <div> <div class=\"lIMUZd\"><div><table class=\"RntSmf\"><tr><td><a href=\"/url?q=https://www.britannica.com/topic/Harry-Potter&amp;sa=U&amp;ved=2ahUKEwi4nfztl5SFAxWYcGwGHbpSBYcQqoUBegQIBRAB&amp;usg=AOvVaw0-t2dVwhIVJlCOjDA-nWMP\"><div class=\"kCmkOe\"><img alt=\"\" class=\"DS1iW\" src=\"https://encrypted-tbn0.gstatic.com/images?q=tbn:ANd9GcTxrBCjdWz7Jh_Rrs0g1TCWnX5Czt971ZWnh0xTgdSzbj-SvhwSS-A4Wof1Ag&amp;s\"/></div></a></td></tr><tr><td><a href=\"/url?q=https://www.britannica.com/topic/Harry-Potter&amp;sa=U&amp;ved=2ahUKEwi4nfztl5SFAxWYcGwGHbpSBYcQr4kDegQIBRAC&amp;usg=AOvVaw3bgG7S3ECGHaAfY38sg8Fk\"><div class=\"AlD19d\"> <span class=\"qXLe6d x3G5ab\"> <span class=\"fYyStc\">Harry Potter | Character,...</span> </span> <span class=\"qXLe6d F9iS2e\"> <span class=\"fYyStc\">www.britannica.com</span> </span> </div></a></td></tr></table></div></div> </div> </div></td><td align=\"center\" class=\"e3goi\"><div class=\"jjVJ4e\"> <div> <div class=\"lIMUZd\"><div><table class=\"RntSmf\"><tr><td><a href=\"/url?q=https://www.gamesradar.com/best-harry-potter-movies/&amp;sa=U&amp;ved=2ahUKEwi4nfztl5SFAxWYcGwGHbpSBYcQqoUBegQIBxAB&amp;usg=AOvVaw0nY6SBjcjzX3_4zCMShB7S\"><div class=\"kCmkOe\"><img alt=\"\" class=\"DS1iW\" src=\"https://encrypted-tbn0.gstatic.com/images?q=tbn:ANd9GcRMoaCR-EaOKZDRwEcpfyJg7coEJuOgXT4mu_sXra3vEvGKCygNrh2MHHOfBHE&amp;s\"/></div></a></td></tr><tr><td><a href=\"/url?q=https://www.gamesradar.com/best-harry-potter-movies/&amp;sa=U&amp;ved=2ahUKEwi4nfztl5SFAxWYcGwGHbpSBYcQr4kDegQIBxAC&amp;usg=AOvVaw38ha7hEgKZKWLJ8orrLn59\"><div class=\"AlD19d\"> <span class=\"qXLe6d x3G5ab\"> <span class=\"fYyStc\">The best Harry Potter...</span> </span> <span class=\"qXLe6d F9iS2e\"> <span class=\"fYyStc\">www.gamesradar.com</span> </span> </div></a></td></tr></table></div></div> </div> </div></td></tr></table></div><table class=\"uZgmoc\"><tbody><td><a class=\"frGj1b\" href=\"/search?q=harry+potter&amp;sca_esv=ab02dd2696e7e4b9&amp;biw=1358&amp;bih=620&amp;ie=UTF-8&amp;tbm=isch&amp;ei=fO4DZrjvDZjhseMPuqWVuAg&amp;start=20&amp;sa=N\">Next &gt;</a></td></tbody></table><br/><div class=\"TuS8Ad\" data-ved=\"0ahUKEwi4nfztl5SFAxWYcGwGHbpSBYcQpyoIUg\"><style>.VYM29{font-weight:bold}</style><div align=\"center\" class=\"HddGcc\"><span class=\"VYM29\">Palghar, Maharashtra</span><span> - </span><span>From your IP address</span><span> - </span><a href=\"/url?q=https://support.google.com/websearch%3Fp%3Dws_settings_location%26hl%3Den-IN&amp;opi=89978449&amp;sa=U&amp;ved=0ahUKEwi4nfztl5SFAxWYcGwGHbpSBYcQty4IUw&amp;usg=AOvVaw360MyzB9MdAmzg9pigNT-L\">Learn more</a></div><div align=\"center\"><a class=\"rEM8G\" href=\"/url?q=https://accounts.google.com/ServiceLogin%3Fcontinue%3Dhttps://www.google.co.in/search%253Fsca_esv%253Dab02dd2696e7e4b9%2526sxsrf%253DACQVn0-rWkJbzuBTheBuYRcV61eN73538A:1711478168568%2526q%253Dharry%252Bpotter%2526tbm%253Disch%2526source%253Dlnms%2526prmd%253Dnivsmbtz%2526sa%253DX%2526ved%253D2ahUKEwisz5yCyZKFAxUEs1YBHQttCk0Q0pQJegQIDBAB%2526biw%253D1358%2526bih%253D620%2526dpr%253D1%26hl%3Den&amp;opi=89978449&amp;sa=U&amp;ved=0ahUKEwi4nfztl5SFAxWYcGwGHbpSBYcQxs8CCFQ&amp;usg=AOvVaw1E-en6SfPVI-6f62yP7L-x\">Sign in</a></div><div><table class=\"bookcf\"><tbody class=\"InWNIe\"><tr><td><a class=\"rEM8G\" href=\"https://www.google.co.in/preferences?hl=en&amp;sa=X&amp;ved=0ahUKEwi4nfztl5SFAxWYcGwGHbpSBYcQv5YECFU\">Settings</a></td><td><a class=\"rEM8G\" href=\"https://www.google.co.in/intl/en_in/policies/privacy/\">Privacy</a></td><td><a class=\"rEM8G\" href=\"https://www.google.co.in/intl/en_in/policies/terms/\">Terms</a></td></tr></tbody></table></div></div><div> </div></body></html>"
      ]
     },
     "execution_count": 58,
     "metadata": {},
     "output_type": "execute_result"
    }
   ],
   "source": [
    "soup"
   ]
  },
  {
   "cell_type": "code",
   "execution_count": 59,
   "id": "79496c54-ed04-4cb8-a3b7-a1c13fea28a7",
   "metadata": {},
   "outputs": [
    {
     "data": {
      "text/plain": [
       "[<img alt=\"Google\" class=\"kgJEQe\" src=\"/images/branding/searchlogo/1x/googlelogo_desk_heirloom_color_150x55dp.gif\"/>,\n",
       " <img alt=\"\" class=\"DS1iW\" src=\"https://encrypted-tbn0.gstatic.com/images?q=tbn:ANd9GcS-TtlIgCdrIZYpDvZPV0BoUKzrjrfTl66p8wMl50aDmFFSkxu4x6ghi1yBsjY&amp;s\"/>,\n",
       " <img alt=\"\" class=\"DS1iW\" src=\"https://encrypted-tbn0.gstatic.com/images?q=tbn:ANd9GcS27YkgDjk5vHQa8T4hT0srxFEv8RXX0DaCfJU_p2cHUDkjrR3tRfse_69e4vU&amp;s\"/>,\n",
       " <img alt=\"\" class=\"DS1iW\" src=\"https://encrypted-tbn0.gstatic.com/images?q=tbn:ANd9GcSD6jUuiKr1L292c6jkSdzFVq-NJ6TjLQKlteJCyYD2YpCY_kMFR10pZ1mlyec&amp;s\"/>,\n",
       " <img alt=\"\" class=\"DS1iW\" src=\"https://encrypted-tbn0.gstatic.com/images?q=tbn:ANd9GcQwq6aoJKDrPZODK7q4wVdGYzuPlBXrwX7PQZWUhqwXcA83dUdx_WBkqcjd6w&amp;s\"/>,\n",
       " <img alt=\"\" class=\"DS1iW\" src=\"https://encrypted-tbn0.gstatic.com/images?q=tbn:ANd9GcSvS3EGq8JBl6LSPK6MZC1y0T8Hz73x6dkW8kAwUMKcyg4UyDo47k-SX_YTcj8&amp;s\"/>,\n",
       " <img alt=\"\" class=\"DS1iW\" src=\"https://encrypted-tbn0.gstatic.com/images?q=tbn:ANd9GcRqflKGxMexjNUdRl6Jrb-P7qXSi2mMlxG7VqBsKFavNDkfdMlmuCKBChXUZ8k&amp;s\"/>,\n",
       " <img alt=\"\" class=\"DS1iW\" src=\"https://encrypted-tbn0.gstatic.com/images?q=tbn:ANd9GcR2J6UhwGez9yK6Fl39iwTiDsxEyr0dsSCtzgxef-IQFNai24uFBnnjC4m6Zg&amp;s\"/>,\n",
       " <img alt=\"\" class=\"DS1iW\" src=\"https://encrypted-tbn0.gstatic.com/images?q=tbn:ANd9GcRytBEKIOYQiHVFCuYLkLXvSxOcLz39dCNYw6LFhtUEu5r9SLe5OHqmemSBgQ&amp;s\"/>,\n",
       " <img alt=\"\" class=\"DS1iW\" src=\"https://encrypted-tbn0.gstatic.com/images?q=tbn:ANd9GcSRYe2hllhP446sc582PW95aX5WkENioBPNKG8mDFLDvVr0uXWrc8R6PjtHbg&amp;s\"/>,\n",
       " <img alt=\"\" class=\"DS1iW\" src=\"https://encrypted-tbn0.gstatic.com/images?q=tbn:ANd9GcQbhmStJQku26OAQAtuVbWv2bq17ocrYU-9STBBSWcRqW45Fe8aQLTlGLEuehg&amp;s\"/>,\n",
       " <img alt=\"\" class=\"DS1iW\" src=\"https://encrypted-tbn0.gstatic.com/images?q=tbn:ANd9GcS5N9Y-9NK9v9Hm0GsKWGcj6gHmyXZgvCtcUWjnJK36JpcOY1_96ZwJECTAgg&amp;s\"/>,\n",
       " <img alt=\"\" class=\"DS1iW\" src=\"https://encrypted-tbn0.gstatic.com/images?q=tbn:ANd9GcRmbqyKaqgc1J0iz-IiXunjJCLm8Hyu6mjWZL9Aj23GkqEssoauEhwLqGmmbxc&amp;s\"/>,\n",
       " <img alt=\"\" class=\"DS1iW\" src=\"https://encrypted-tbn0.gstatic.com/images?q=tbn:ANd9GcQeEE7g19Yf-2smz-faUdX70AeMwovmy68bfs7fW1BwYkzoQSjNuyCYqD2Png&amp;s\"/>,\n",
       " <img alt=\"\" class=\"DS1iW\" src=\"https://encrypted-tbn0.gstatic.com/images?q=tbn:ANd9GcSCAZDOlOhjj4IsllH5knCHoIaUvTCXx4Rf_Evs77_zCGFRtRh_mFTyR9AHt40&amp;s\"/>,\n",
       " <img alt=\"\" class=\"DS1iW\" src=\"https://encrypted-tbn0.gstatic.com/images?q=tbn:ANd9GcQhIg-UqQR6t6dc581fcTcjwkwxeIdo7gs88nCevz2d4UPf-NirW1VDg61XWys&amp;s\"/>,\n",
       " <img alt=\"\" class=\"DS1iW\" src=\"https://encrypted-tbn0.gstatic.com/images?q=tbn:ANd9GcRdS6b-z34xjprxbrSQwTy9fAea2O8KorOJX24tX_bbI00DY3Fgb4TIo_rFiqw&amp;s\"/>,\n",
       " <img alt=\"\" class=\"DS1iW\" src=\"https://encrypted-tbn0.gstatic.com/images?q=tbn:ANd9GcTISPBKmhmc6rRidyJaOLqlJKaqcG5uYvI0yWk_-vmud2-9y_OIAhuVti3zdA&amp;s\"/>,\n",
       " <img alt=\"\" class=\"DS1iW\" src=\"https://encrypted-tbn0.gstatic.com/images?q=tbn:ANd9GcRnGv2YOW_bNzoNbTrg10DyOBJW1jkssdpv_qZ8zRX4GirfEqPort3F31UQcLU&amp;s\"/>,\n",
       " <img alt=\"\" class=\"DS1iW\" src=\"https://encrypted-tbn0.gstatic.com/images?q=tbn:ANd9GcTxrBCjdWz7Jh_Rrs0g1TCWnX5Czt971ZWnh0xTgdSzbj-SvhwSS-A4Wof1Ag&amp;s\"/>,\n",
       " <img alt=\"\" class=\"DS1iW\" src=\"https://encrypted-tbn0.gstatic.com/images?q=tbn:ANd9GcRMoaCR-EaOKZDRwEcpfyJg7coEJuOgXT4mu_sXra3vEvGKCygNrh2MHHOfBHE&amp;s\"/>]"
      ]
     },
     "execution_count": 59,
     "metadata": {},
     "output_type": "execute_result"
    }
   ],
   "source": [
    "soup.find_all(\"img\")"
   ]
  },
  {
   "cell_type": "code",
   "execution_count": 60,
   "id": "9e0374cf-5b42-489f-b9a8-7729a43f463a",
   "metadata": {},
   "outputs": [],
   "source": [
    "image_tags=soup.find_all(\"img\")\n"
   ]
  },
  {
   "cell_type": "code",
   "execution_count": 61,
   "id": "36e30cfe-a5a1-4d38-bb36-858b15ad18ca",
   "metadata": {},
   "outputs": [
    {
     "data": {
      "text/plain": [
       "[<img alt=\"Google\" class=\"kgJEQe\" src=\"/images/branding/searchlogo/1x/googlelogo_desk_heirloom_color_150x55dp.gif\"/>,\n",
       " <img alt=\"\" class=\"DS1iW\" src=\"https://encrypted-tbn0.gstatic.com/images?q=tbn:ANd9GcS-TtlIgCdrIZYpDvZPV0BoUKzrjrfTl66p8wMl50aDmFFSkxu4x6ghi1yBsjY&amp;s\"/>,\n",
       " <img alt=\"\" class=\"DS1iW\" src=\"https://encrypted-tbn0.gstatic.com/images?q=tbn:ANd9GcS27YkgDjk5vHQa8T4hT0srxFEv8RXX0DaCfJU_p2cHUDkjrR3tRfse_69e4vU&amp;s\"/>,\n",
       " <img alt=\"\" class=\"DS1iW\" src=\"https://encrypted-tbn0.gstatic.com/images?q=tbn:ANd9GcSD6jUuiKr1L292c6jkSdzFVq-NJ6TjLQKlteJCyYD2YpCY_kMFR10pZ1mlyec&amp;s\"/>,\n",
       " <img alt=\"\" class=\"DS1iW\" src=\"https://encrypted-tbn0.gstatic.com/images?q=tbn:ANd9GcQwq6aoJKDrPZODK7q4wVdGYzuPlBXrwX7PQZWUhqwXcA83dUdx_WBkqcjd6w&amp;s\"/>,\n",
       " <img alt=\"\" class=\"DS1iW\" src=\"https://encrypted-tbn0.gstatic.com/images?q=tbn:ANd9GcSvS3EGq8JBl6LSPK6MZC1y0T8Hz73x6dkW8kAwUMKcyg4UyDo47k-SX_YTcj8&amp;s\"/>,\n",
       " <img alt=\"\" class=\"DS1iW\" src=\"https://encrypted-tbn0.gstatic.com/images?q=tbn:ANd9GcRqflKGxMexjNUdRl6Jrb-P7qXSi2mMlxG7VqBsKFavNDkfdMlmuCKBChXUZ8k&amp;s\"/>,\n",
       " <img alt=\"\" class=\"DS1iW\" src=\"https://encrypted-tbn0.gstatic.com/images?q=tbn:ANd9GcR2J6UhwGez9yK6Fl39iwTiDsxEyr0dsSCtzgxef-IQFNai24uFBnnjC4m6Zg&amp;s\"/>,\n",
       " <img alt=\"\" class=\"DS1iW\" src=\"https://encrypted-tbn0.gstatic.com/images?q=tbn:ANd9GcRytBEKIOYQiHVFCuYLkLXvSxOcLz39dCNYw6LFhtUEu5r9SLe5OHqmemSBgQ&amp;s\"/>,\n",
       " <img alt=\"\" class=\"DS1iW\" src=\"https://encrypted-tbn0.gstatic.com/images?q=tbn:ANd9GcSRYe2hllhP446sc582PW95aX5WkENioBPNKG8mDFLDvVr0uXWrc8R6PjtHbg&amp;s\"/>,\n",
       " <img alt=\"\" class=\"DS1iW\" src=\"https://encrypted-tbn0.gstatic.com/images?q=tbn:ANd9GcQbhmStJQku26OAQAtuVbWv2bq17ocrYU-9STBBSWcRqW45Fe8aQLTlGLEuehg&amp;s\"/>,\n",
       " <img alt=\"\" class=\"DS1iW\" src=\"https://encrypted-tbn0.gstatic.com/images?q=tbn:ANd9GcS5N9Y-9NK9v9Hm0GsKWGcj6gHmyXZgvCtcUWjnJK36JpcOY1_96ZwJECTAgg&amp;s\"/>,\n",
       " <img alt=\"\" class=\"DS1iW\" src=\"https://encrypted-tbn0.gstatic.com/images?q=tbn:ANd9GcRmbqyKaqgc1J0iz-IiXunjJCLm8Hyu6mjWZL9Aj23GkqEssoauEhwLqGmmbxc&amp;s\"/>,\n",
       " <img alt=\"\" class=\"DS1iW\" src=\"https://encrypted-tbn0.gstatic.com/images?q=tbn:ANd9GcQeEE7g19Yf-2smz-faUdX70AeMwovmy68bfs7fW1BwYkzoQSjNuyCYqD2Png&amp;s\"/>,\n",
       " <img alt=\"\" class=\"DS1iW\" src=\"https://encrypted-tbn0.gstatic.com/images?q=tbn:ANd9GcSCAZDOlOhjj4IsllH5knCHoIaUvTCXx4Rf_Evs77_zCGFRtRh_mFTyR9AHt40&amp;s\"/>,\n",
       " <img alt=\"\" class=\"DS1iW\" src=\"https://encrypted-tbn0.gstatic.com/images?q=tbn:ANd9GcQhIg-UqQR6t6dc581fcTcjwkwxeIdo7gs88nCevz2d4UPf-NirW1VDg61XWys&amp;s\"/>,\n",
       " <img alt=\"\" class=\"DS1iW\" src=\"https://encrypted-tbn0.gstatic.com/images?q=tbn:ANd9GcRdS6b-z34xjprxbrSQwTy9fAea2O8KorOJX24tX_bbI00DY3Fgb4TIo_rFiqw&amp;s\"/>,\n",
       " <img alt=\"\" class=\"DS1iW\" src=\"https://encrypted-tbn0.gstatic.com/images?q=tbn:ANd9GcTISPBKmhmc6rRidyJaOLqlJKaqcG5uYvI0yWk_-vmud2-9y_OIAhuVti3zdA&amp;s\"/>,\n",
       " <img alt=\"\" class=\"DS1iW\" src=\"https://encrypted-tbn0.gstatic.com/images?q=tbn:ANd9GcRnGv2YOW_bNzoNbTrg10DyOBJW1jkssdpv_qZ8zRX4GirfEqPort3F31UQcLU&amp;s\"/>,\n",
       " <img alt=\"\" class=\"DS1iW\" src=\"https://encrypted-tbn0.gstatic.com/images?q=tbn:ANd9GcTxrBCjdWz7Jh_Rrs0g1TCWnX5Czt971ZWnh0xTgdSzbj-SvhwSS-A4Wof1Ag&amp;s\"/>,\n",
       " <img alt=\"\" class=\"DS1iW\" src=\"https://encrypted-tbn0.gstatic.com/images?q=tbn:ANd9GcRMoaCR-EaOKZDRwEcpfyJg7coEJuOgXT4mu_sXra3vEvGKCygNrh2MHHOfBHE&amp;s\"/>]"
      ]
     },
     "execution_count": 61,
     "metadata": {},
     "output_type": "execute_result"
    }
   ],
   "source": [
    "image_tags"
   ]
  },
  {
   "cell_type": "code",
   "execution_count": 62,
   "id": "8ba2ab9f-3dae-405f-ab5d-1c7b4f553226",
   "metadata": {},
   "outputs": [],
   "source": [
    "del image_tags[0]"
   ]
  },
  {
   "cell_type": "code",
   "execution_count": 63,
   "id": "5986d490-2d80-4604-8176-89f84b2f6b80",
   "metadata": {},
   "outputs": [
    {
     "data": {
      "text/plain": [
       "[<img alt=\"\" class=\"DS1iW\" src=\"https://encrypted-tbn0.gstatic.com/images?q=tbn:ANd9GcS-TtlIgCdrIZYpDvZPV0BoUKzrjrfTl66p8wMl50aDmFFSkxu4x6ghi1yBsjY&amp;s\"/>,\n",
       " <img alt=\"\" class=\"DS1iW\" src=\"https://encrypted-tbn0.gstatic.com/images?q=tbn:ANd9GcS27YkgDjk5vHQa8T4hT0srxFEv8RXX0DaCfJU_p2cHUDkjrR3tRfse_69e4vU&amp;s\"/>,\n",
       " <img alt=\"\" class=\"DS1iW\" src=\"https://encrypted-tbn0.gstatic.com/images?q=tbn:ANd9GcSD6jUuiKr1L292c6jkSdzFVq-NJ6TjLQKlteJCyYD2YpCY_kMFR10pZ1mlyec&amp;s\"/>,\n",
       " <img alt=\"\" class=\"DS1iW\" src=\"https://encrypted-tbn0.gstatic.com/images?q=tbn:ANd9GcQwq6aoJKDrPZODK7q4wVdGYzuPlBXrwX7PQZWUhqwXcA83dUdx_WBkqcjd6w&amp;s\"/>,\n",
       " <img alt=\"\" class=\"DS1iW\" src=\"https://encrypted-tbn0.gstatic.com/images?q=tbn:ANd9GcSvS3EGq8JBl6LSPK6MZC1y0T8Hz73x6dkW8kAwUMKcyg4UyDo47k-SX_YTcj8&amp;s\"/>,\n",
       " <img alt=\"\" class=\"DS1iW\" src=\"https://encrypted-tbn0.gstatic.com/images?q=tbn:ANd9GcRqflKGxMexjNUdRl6Jrb-P7qXSi2mMlxG7VqBsKFavNDkfdMlmuCKBChXUZ8k&amp;s\"/>,\n",
       " <img alt=\"\" class=\"DS1iW\" src=\"https://encrypted-tbn0.gstatic.com/images?q=tbn:ANd9GcR2J6UhwGez9yK6Fl39iwTiDsxEyr0dsSCtzgxef-IQFNai24uFBnnjC4m6Zg&amp;s\"/>,\n",
       " <img alt=\"\" class=\"DS1iW\" src=\"https://encrypted-tbn0.gstatic.com/images?q=tbn:ANd9GcRytBEKIOYQiHVFCuYLkLXvSxOcLz39dCNYw6LFhtUEu5r9SLe5OHqmemSBgQ&amp;s\"/>,\n",
       " <img alt=\"\" class=\"DS1iW\" src=\"https://encrypted-tbn0.gstatic.com/images?q=tbn:ANd9GcSRYe2hllhP446sc582PW95aX5WkENioBPNKG8mDFLDvVr0uXWrc8R6PjtHbg&amp;s\"/>,\n",
       " <img alt=\"\" class=\"DS1iW\" src=\"https://encrypted-tbn0.gstatic.com/images?q=tbn:ANd9GcQbhmStJQku26OAQAtuVbWv2bq17ocrYU-9STBBSWcRqW45Fe8aQLTlGLEuehg&amp;s\"/>,\n",
       " <img alt=\"\" class=\"DS1iW\" src=\"https://encrypted-tbn0.gstatic.com/images?q=tbn:ANd9GcS5N9Y-9NK9v9Hm0GsKWGcj6gHmyXZgvCtcUWjnJK36JpcOY1_96ZwJECTAgg&amp;s\"/>,\n",
       " <img alt=\"\" class=\"DS1iW\" src=\"https://encrypted-tbn0.gstatic.com/images?q=tbn:ANd9GcRmbqyKaqgc1J0iz-IiXunjJCLm8Hyu6mjWZL9Aj23GkqEssoauEhwLqGmmbxc&amp;s\"/>,\n",
       " <img alt=\"\" class=\"DS1iW\" src=\"https://encrypted-tbn0.gstatic.com/images?q=tbn:ANd9GcQeEE7g19Yf-2smz-faUdX70AeMwovmy68bfs7fW1BwYkzoQSjNuyCYqD2Png&amp;s\"/>,\n",
       " <img alt=\"\" class=\"DS1iW\" src=\"https://encrypted-tbn0.gstatic.com/images?q=tbn:ANd9GcSCAZDOlOhjj4IsllH5knCHoIaUvTCXx4Rf_Evs77_zCGFRtRh_mFTyR9AHt40&amp;s\"/>,\n",
       " <img alt=\"\" class=\"DS1iW\" src=\"https://encrypted-tbn0.gstatic.com/images?q=tbn:ANd9GcQhIg-UqQR6t6dc581fcTcjwkwxeIdo7gs88nCevz2d4UPf-NirW1VDg61XWys&amp;s\"/>,\n",
       " <img alt=\"\" class=\"DS1iW\" src=\"https://encrypted-tbn0.gstatic.com/images?q=tbn:ANd9GcRdS6b-z34xjprxbrSQwTy9fAea2O8KorOJX24tX_bbI00DY3Fgb4TIo_rFiqw&amp;s\"/>,\n",
       " <img alt=\"\" class=\"DS1iW\" src=\"https://encrypted-tbn0.gstatic.com/images?q=tbn:ANd9GcTISPBKmhmc6rRidyJaOLqlJKaqcG5uYvI0yWk_-vmud2-9y_OIAhuVti3zdA&amp;s\"/>,\n",
       " <img alt=\"\" class=\"DS1iW\" src=\"https://encrypted-tbn0.gstatic.com/images?q=tbn:ANd9GcRnGv2YOW_bNzoNbTrg10DyOBJW1jkssdpv_qZ8zRX4GirfEqPort3F31UQcLU&amp;s\"/>,\n",
       " <img alt=\"\" class=\"DS1iW\" src=\"https://encrypted-tbn0.gstatic.com/images?q=tbn:ANd9GcTxrBCjdWz7Jh_Rrs0g1TCWnX5Czt971ZWnh0xTgdSzbj-SvhwSS-A4Wof1Ag&amp;s\"/>,\n",
       " <img alt=\"\" class=\"DS1iW\" src=\"https://encrypted-tbn0.gstatic.com/images?q=tbn:ANd9GcRMoaCR-EaOKZDRwEcpfyJg7coEJuOgXT4mu_sXra3vEvGKCygNrh2MHHOfBHE&amp;s\"/>]"
      ]
     },
     "execution_count": 63,
     "metadata": {},
     "output_type": "execute_result"
    }
   ],
   "source": [
    "image_tags\n"
   ]
  },
  {
   "cell_type": "code",
   "execution_count": 64,
   "id": "4155ca8d-130e-4900-a11e-66ada8f83883",
   "metadata": {},
   "outputs": [
    {
     "data": {
      "text/plain": [
       "20"
      ]
     },
     "execution_count": 64,
     "metadata": {},
     "output_type": "execute_result"
    }
   ],
   "source": [
    "len(image_tags)"
   ]
  },
  {
   "cell_type": "code",
   "execution_count": 65,
   "id": "972c2885-1b69-4233-978a-b45d4c558f9e",
   "metadata": {},
   "outputs": [],
   "source": [
    "#for i in image_tags:\n",
    "  #  print(i[\"src\"])"
   ]
  },
  {
   "cell_type": "code",
   "execution_count": 66,
   "id": "dce14009-5fb7-4412-85dc-53e228aae78f",
   "metadata": {},
   "outputs": [],
   "source": [
    "#requests.get(\"https://encrypted-tbn0.gstatic.com/images?q=tbn:ANd9GcQWIm8IhNbQ8cHHkx25dbTK7_RaRK8DrRrK4GrR4wyApiAsBJPUbhsa7ICjKg&s\").content"
   ]
  },
  {
   "cell_type": "code",
   "execution_count": 67,
   "id": "22d15c4c-2c00-4b0e-bf63-8390667e6558",
   "metadata": {},
   "outputs": [],
   "source": [
    "save_dir=\"image/\"\n",
    "if not os.path.exists(save_dir):\n",
    "    os.makedirs(save_dir)"
   ]
  },
  {
   "cell_type": "code",
   "execution_count": 68,
   "id": "2bc07de4-ecf4-4e64-85d4-e35265cd2b3d",
   "metadata": {},
   "outputs": [],
   "source": [
    "#for i in image_tags:\n",
    "#   print(image_tags.index(i))"
   ]
  },
  {
   "cell_type": "code",
   "execution_count": 69,
   "id": "3b5bbbce-7e9f-4a45-bcce-389f7cab6549",
   "metadata": {},
   "outputs": [],
   "source": [
    "for i in image_tags:\n",
    "    image_url=i['src']\n",
    "    image_data=requests.get(image_url).content\n",
    "    with open (os.path.join(save_dir,f\"{query}_{image_tags.index(i)}.jpg\"),\"wb\") as f:\n",
    "        f.write(image_data)\n",
    "    "
   ]
  },
  {
   "cell_type": "code",
   "execution_count": null,
   "id": "74bb815c-156f-4187-bf18-a2d165c03a51",
   "metadata": {},
   "outputs": [],
   "source": []
  }
 ],
 "metadata": {
  "kernelspec": {
   "display_name": "Python 3 (ipykernel)",
   "language": "python",
   "name": "python3"
  },
  "language_info": {
   "codemirror_mode": {
    "name": "ipython",
    "version": 3
   },
   "file_extension": ".py",
   "mimetype": "text/x-python",
   "name": "python",
   "nbconvert_exporter": "python",
   "pygments_lexer": "ipython3",
   "version": "3.11.7"
  }
 },
 "nbformat": 4,
 "nbformat_minor": 5
}
